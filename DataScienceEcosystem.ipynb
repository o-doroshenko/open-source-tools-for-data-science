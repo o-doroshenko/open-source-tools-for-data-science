{
 "cells": [
  {
   "cell_type": "markdown",
   "id": "3662366c-8345-4c89-9925-1188195911d4",
   "metadata": {},
   "source": [
    "# Data Science Tools and Ecosystem"
   ]
  },
  {
   "cell_type": "markdown",
   "id": "6642975b-8071-4433-aa5c-62903cdfae0d",
   "metadata": {},
   "source": [
    "In this notebook, Data Science Tools and Ecosystem are summarized"
   ]
  },
  {
   "cell_type": "markdown",
   "id": "23fac4da-4319-4162-8cb2-4f14777e9fcc",
   "metadata": {},
   "source": [
    "Objectives:\n",
    "- Practice writing Markdown\n",
    "- Practice working with Jupyter notebook\n",
    "- Remember topics learned in this course"
   ]
  },
  {
   "cell_type": "markdown",
   "id": "6ab9a444-b331-4fd3-87a7-bad9611d95c8",
   "metadata": {},
   "source": [
    "Some of the popular languages that Data Scientists use are:\n",
    "- Python\n",
    "- R\n",
    "- Julia\n",
    "- Java"
   ]
  },
  {
   "cell_type": "markdown",
   "id": "fc5fbfc7-df7d-43ff-9292-297462cc5ac4",
   "metadata": {},
   "source": [
    "Some of the commonly used libraries used by Data Scientists include:\n",
    "- pandas\n",
    "- Scikit-Learn\n",
    "- Matplotlib\n",
    "- NumPy"
   ]
  },
  {
   "attachments": {},
   "cell_type": "markdown",
   "id": "f7382283-1cde-4538-be29-d3d19dad8384",
   "metadata": {},
   "source": [
    "| Data Science Tools |\n",
    "| ------------------ |\n",
    "| Jupyter            |\n",
    "| RStudio            |\n",
    "| VSCode             |"
   ]
  },
  {
   "cell_type": "markdown",
   "id": "bfe83902-2ff4-4a91-8d47-493e8e2f1647",
   "metadata": {},
   "source": [
    "### Below are a few examples of evaluating arithmetic expressions in Python"
   ]
  },
  {
   "cell_type": "code",
   "execution_count": 1,
   "id": "2b48d4dc-5d87-43fa-9a5d-50fcc12757fc",
   "metadata": {},
   "outputs": [
    {
     "data": {
      "text/plain": [
       "17"
      ]
     },
     "execution_count": 1,
     "metadata": {},
     "output_type": "execute_result"
    }
   ],
   "source": [
    "# This a simple arithmetic expression to mutiply then add integers\n",
    "\n",
    "(3 * 4) + 5"
   ]
  },
  {
   "cell_type": "code",
   "execution_count": 2,
   "id": "17d0adf8-26cf-46fe-a6ec-b143dfa746a6",
   "metadata": {},
   "outputs": [
    {
     "data": {
      "text/plain": [
       "3.3333333333333335"
      ]
     },
     "execution_count": 2,
     "metadata": {},
     "output_type": "execute_result"
    }
   ],
   "source": [
    "# This will convert 200 minutes to hours by diving by 60\n",
    "\n",
    "200 / 60"
   ]
  },
  {
   "cell_type": "markdown",
   "id": "79ade037-45ed-41c1-87c7-938b938bd2ab",
   "metadata": {},
   "source": [
    "## Author\n",
    "Oleksii Doroshenko"
   ]
  }
 ],
 "metadata": {
  "kernelspec": {
   "display_name": "Python 3 (ipykernel)",
   "language": "python",
   "name": "python3"
  },
  "language_info": {
   "codemirror_mode": {
    "name": "ipython",
    "version": 3
   },
   "file_extension": ".py",
   "mimetype": "text/x-python",
   "name": "python",
   "nbconvert_exporter": "python",
   "pygments_lexer": "ipython3",
   "version": "3.13.0"
  }
 },
 "nbformat": 4,
 "nbformat_minor": 5
}
